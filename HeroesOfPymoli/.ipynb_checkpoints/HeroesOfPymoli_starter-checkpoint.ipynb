{
 "cells": [
  {
   "cell_type": "markdown",
   "metadata": {},
   "source": [
    "### Note\n",
    "* Instructions have been included for each segment. You do not have to follow them exactly, but they are included to help you think through the steps."
   ]
  },
  {
   "cell_type": "code",
   "execution_count": 1,
   "metadata": {},
   "outputs": [],
   "source": [
    "# Dependencies and Setup\n",
    "import pandas as pd\n",
    "\n",
    "# File to Load (Remember to Change These)\n",
    "file_to_load = \"Resources/purchase_data.csv\"\n",
    "\n",
    "# Read Purchasing File and store into Pandas data frame\n",
    "purchase_data = pd.read_csv(file_to_load)\n"
   ]
  },
  {
   "cell_type": "markdown",
   "metadata": {},
   "source": [
    "## Player Count"
   ]
  },
  {
   "cell_type": "markdown",
   "metadata": {},
   "source": [
    "* Display the total number of players\n"
   ]
  },
  {
   "cell_type": "code",
   "execution_count": 2,
   "metadata": {},
   "outputs": [
    {
     "data": {
      "text/html": [
       "<div>\n",
       "<style scoped>\n",
       "    .dataframe tbody tr th:only-of-type {\n",
       "        vertical-align: middle;\n",
       "    }\n",
       "\n",
       "    .dataframe tbody tr th {\n",
       "        vertical-align: top;\n",
       "    }\n",
       "\n",
       "    .dataframe thead th {\n",
       "        text-align: right;\n",
       "    }\n",
       "</style>\n",
       "<table border=\"1\" class=\"dataframe\">\n",
       "  <thead>\n",
       "    <tr style=\"text-align: right;\">\n",
       "      <th></th>\n",
       "      <th>players count</th>\n",
       "    </tr>\n",
       "  </thead>\n",
       "  <tbody>\n",
       "    <tr>\n",
       "      <th>0</th>\n",
       "      <td>576</td>\n",
       "    </tr>\n",
       "  </tbody>\n",
       "</table>\n",
       "</div>"
      ],
      "text/plain": [
       "   players count\n",
       "0            576"
      ]
     },
     "execution_count": 2,
     "metadata": {},
     "output_type": "execute_result"
    }
   ],
   "source": [
    "#number of players: do SN to count the names, w/o counting duplicate use unique\n",
    "#when using unique use len\n",
    "players= len(purchase_data[\"SN\"].unique())\n",
    "# Create a data frame with total players named player count\n",
    "count = pd.DataFrame({\"players count\":[players]})\n",
    "count"
   ]
  },
  {
   "cell_type": "markdown",
   "metadata": {},
   "source": [
    "## Purchasing Analysis (Total)"
   ]
  },
  {
   "cell_type": "markdown",
   "metadata": {},
   "source": [
    "* Run basic calculations to obtain number of unique items, average price, etc.\n",
    "\n",
    "\n",
    "* Create a summary data frame to hold the results\n",
    "\n",
    "\n",
    "* Optional: give the displayed data cleaner formatting\n",
    "\n",
    "\n",
    "* Display the summary data frame\n"
   ]
  },
  {
   "cell_type": "code",
   "execution_count": 3,
   "metadata": {
    "scrolled": true
   },
   "outputs": [
    {
     "data": {
      "text/html": [
       "<style  type=\"text/css\" >\n",
       "</style><table id=\"T_05e4beca_d5d9_11ea_99d3_c4b301c36a45\" ><thead>    <tr>        <th class=\"blank level0\" ></th>        <th class=\"col_heading level0 col0\" >unique items</th>        <th class=\"col_heading level0 col1\" >Average Price</th>        <th class=\"col_heading level0 col2\" >Number of Purchases</th>        <th class=\"col_heading level0 col3\" >total revenue</th>    </tr></thead><tbody>\n",
       "                <tr>\n",
       "                        <th id=\"T_05e4beca_d5d9_11ea_99d3_c4b301c36a45level0_row0\" class=\"row_heading level0 row0\" >0</th>\n",
       "                        <td id=\"T_05e4beca_d5d9_11ea_99d3_c4b301c36a45row0_col0\" class=\"data row0 col0\" >179</td>\n",
       "                        <td id=\"T_05e4beca_d5d9_11ea_99d3_c4b301c36a45row0_col1\" class=\"data row0 col1\" >$3.05</td>\n",
       "                        <td id=\"T_05e4beca_d5d9_11ea_99d3_c4b301c36a45row0_col2\" class=\"data row0 col2\" >780</td>\n",
       "                        <td id=\"T_05e4beca_d5d9_11ea_99d3_c4b301c36a45row0_col3\" class=\"data row0 col3\" >$2379.77</td>\n",
       "            </tr>\n",
       "    </tbody></table>"
      ],
      "text/plain": [
       "<pandas.io.formats.style.Styler at 0x11ec46fd0>"
      ]
     },
     "execution_count": 3,
     "metadata": {},
     "output_type": "execute_result"
    }
   ],
   "source": [
    "#number of unique items\n",
    "# with len for unique. unique item use unique (not sure but it sounds like it make sense)\n",
    "unique_items = len(purchase_data[\"Item ID\"].unique())\n",
    "\n",
    "#average price\n",
    "#name=df[].mean()\n",
    "Average_Price = purchase_data[\"Price\"].mean()\n",
    "\n",
    "#Number of Purchases\n",
    "#same formula^^\n",
    "Number_of_Purchases = purchase_data[\"Purchase ID\"].count()\n",
    "\n",
    "#sum\n",
    "#same same\n",
    "total_revenue = purchase_data[\"Price\"].sum()\n",
    "\n",
    "#summary data frame \n",
    "# make dictionary?\n",
    "#df.add: is it simplier or more complicated?\n",
    "#purchase_data[\"Number of Unique Items\"]= len(purchase_data[\"Item ID\"].unique())?\n",
    "    #^no!\n",
    "#make new dataframe, do method 1: list of dictionaries\n",
    "#words not in quotes belong in brackets\n",
    "#assign names to bracket values in a dictionary\n",
    "\n",
    "#use pd.DataFrame to make a table from the dict!!! otherwise it wont be organized\n",
    "\n",
    "summ_df = pd.DataFrame({\"unique items\": [unique_items],\n",
    "               \"Average Price\": [Average_Price],\n",
    "               \"Number of Purchases\" : [Number_of_Purchases],\n",
    "               \"total revenue\" :[total_revenue]})\n",
    "summ_df\n",
    "\n",
    "#  add dollars and 2 decimals for price and revenue\n",
    "#summ_df.style.format= ({\"Average Price\":\"${:.2f}\"})\n",
    "#summ_df.style.format= ({\"total revenue\" : \"${:.2f}\"})\n",
    "#summ_df.format\n",
    "    #^^^doesn't work\n",
    "    \n",
    "#combine!\n",
    "summ_df.style.format({\"Average Price\": \"${:.2f}\", \"total revenue\": \"${:.2f}\"})"
   ]
  },
  {
   "cell_type": "markdown",
   "metadata": {},
   "source": [
    "## Gender Demographics"
   ]
  },
  {
   "cell_type": "markdown",
   "metadata": {},
   "source": [
    "* Percentage and Count of Male Players\n",
    "\n",
    "\n",
    "* Percentage and Count of Female Players\n",
    "\n",
    "\n",
    "* Percentage and Count of Other / Non-Disclosed\n",
    "\n",
    "\n"
   ]
  },
  {
   "cell_type": "code",
   "execution_count": 4,
   "metadata": {
    "scrolled": true
   },
   "outputs": [
    {
     "data": {
      "text/html": [
       "<style  type=\"text/css\" >\n",
       "</style><table id=\"T_05f38b3a_d5d9_11ea_9f10_c4b301c36a45\" ><thead>    <tr>        <th class=\"blank level0\" ></th>        <th class=\"col_heading level0 col0\" >Gender</th>        <th class=\"col_heading level0 col1\" >Total Count</th>        <th class=\"col_heading level0 col2\" >Percentage of Players</th>    </tr></thead><tbody>\n",
       "                <tr>\n",
       "                        <th id=\"T_05f38b3a_d5d9_11ea_9f10_c4b301c36a45level0_row0\" class=\"row_heading level0 row0\" >0</th>\n",
       "                        <td id=\"T_05f38b3a_d5d9_11ea_9f10_c4b301c36a45row0_col0\" class=\"data row0 col0\" >Male</td>\n",
       "                        <td id=\"T_05f38b3a_d5d9_11ea_9f10_c4b301c36a45row0_col1\" class=\"data row0 col1\" >484</td>\n",
       "                        <td id=\"T_05f38b3a_d5d9_11ea_9f10_c4b301c36a45row0_col2\" class=\"data row0 col2\" >62.05%</td>\n",
       "            </tr>\n",
       "            <tr>\n",
       "                        <th id=\"T_05f38b3a_d5d9_11ea_9f10_c4b301c36a45level0_row1\" class=\"row_heading level0 row1\" >1</th>\n",
       "                        <td id=\"T_05f38b3a_d5d9_11ea_9f10_c4b301c36a45row1_col0\" class=\"data row1 col0\" >Female</td>\n",
       "                        <td id=\"T_05f38b3a_d5d9_11ea_9f10_c4b301c36a45row1_col1\" class=\"data row1 col1\" >81</td>\n",
       "                        <td id=\"T_05f38b3a_d5d9_11ea_9f10_c4b301c36a45row1_col2\" class=\"data row1 col2\" >10.38%</td>\n",
       "            </tr>\n",
       "            <tr>\n",
       "                        <th id=\"T_05f38b3a_d5d9_11ea_9f10_c4b301c36a45level0_row2\" class=\"row_heading level0 row2\" >2</th>\n",
       "                        <td id=\"T_05f38b3a_d5d9_11ea_9f10_c4b301c36a45row2_col0\" class=\"data row2 col0\" >Other / Non-Disclosed</td>\n",
       "                        <td id=\"T_05f38b3a_d5d9_11ea_9f10_c4b301c36a45row2_col1\" class=\"data row2 col1\" >11</td>\n",
       "                        <td id=\"T_05f38b3a_d5d9_11ea_9f10_c4b301c36a45row2_col2\" class=\"data row2 col2\" >1.41%</td>\n",
       "            </tr>\n",
       "    </tbody></table>"
      ],
      "text/plain": [
       "<pandas.io.formats.style.Styler at 0x120045630>"
      ]
     },
     "execution_count": 4,
     "metadata": {},
     "output_type": "execute_result"
    }
   ],
   "source": [
    "#Total count \n",
    "#make a variable that'll hold the total to use for calculations\n",
    "allGender= purchase_data[\"SN\"].count()\n",
    "\n",
    "#match gender to usernames. \"SN\"\n",
    "\n",
    "# count for sum\n",
    "malecount = purchase_data[purchase_data[\"Gender\"] == \"Male\"][\"SN\"].nunique()\n",
    "femalecount = purchase_data[purchase_data[\"Gender\"] == \"Female\"][\"SN\"].nunique()\n",
    "other = purchase_data[purchase_data[\"Gender\"] == \"Other / Non-Disclosed\"][\"SN\"].nunique()\n",
    "\n",
    "# calc for percent\n",
    "\n",
    "malecalc= ((malecount/allGender)*100)\n",
    "femalecalc= ((femalecount/allGender)*100)\n",
    "othercalc= ((other/allGender)*100)\n",
    "\n",
    "#make new dataframe to compile results\n",
    "\n",
    "genders = pd.DataFrame({\"Gender\": [\"Male\", \"Female\", \"Other / Non-Disclosed\"],\n",
    "                        \"Total Count\": [malecount, femalecount, other],#no quotations, they hold the count\n",
    "                        \"Percentage of Players\": [malecalc, femalecalc, othercalc]\n",
    "                       })\n",
    "\n",
    "genders.style.format({\"Percentage of Players\": \"{:.2f}%\" })\n"
   ]
  },
  {
   "cell_type": "markdown",
   "metadata": {},
   "source": [
    "\n",
    "## Purchasing Analysis (Gender)"
   ]
  },
  {
   "cell_type": "markdown",
   "metadata": {},
   "source": [
    "* Run basic calculations to obtain purchase count, avg. purchase price, avg. purchase total per person etc. by gender\n",
    "\n",
    "\n",
    "\n",
    "\n",
    "* Create a summary data frame to hold the results\n",
    "\n",
    "\n",
    "* Optional: give the displayed data cleaner formatting\n",
    "\n",
    "\n",
    "* Display the summary data frame"
   ]
  },
  {
   "cell_type": "code",
   "execution_count": 5,
   "metadata": {},
   "outputs": [
    {
     "data": {
      "text/html": [
       "<style  type=\"text/css\" >\n",
       "</style><table id=\"T_05fe0bf0_d5d9_11ea_8e31_c4b301c36a45\" ><thead>    <tr>        <th class=\"blank level0\" ></th>        <th class=\"col_heading level0 col0\" >Gender</th>        <th class=\"col_heading level0 col1\" > Purchase Count</th>        <th class=\"col_heading level0 col2\" >Average Purchase Price</th>        <th class=\"col_heading level0 col3\" >Total Purchase Value</th>        <th class=\"col_heading level0 col4\" >Avg Total Purchase per Person</th>    </tr></thead><tbody>\n",
       "                <tr>\n",
       "                        <th id=\"T_05fe0bf0_d5d9_11ea_8e31_c4b301c36a45level0_row0\" class=\"row_heading level0 row0\" >0</th>\n",
       "                        <td id=\"T_05fe0bf0_d5d9_11ea_8e31_c4b301c36a45row0_col0\" class=\"data row0 col0\" >Male</td>\n",
       "                        <td id=\"T_05fe0bf0_d5d9_11ea_8e31_c4b301c36a45row0_col1\" class=\"data row0 col1\" >484</td>\n",
       "                        <td id=\"T_05fe0bf0_d5d9_11ea_8e31_c4b301c36a45row0_col2\" class=\"data row0 col2\" >$3.02</td>\n",
       "                        <td id=\"T_05fe0bf0_d5d9_11ea_8e31_c4b301c36a45row0_col3\" class=\"data row0 col3\" >$1967.64</td>\n",
       "                        <td id=\"T_05fe0bf0_d5d9_11ea_8e31_c4b301c36a45row0_col4\" class=\"data row0 col4\" >$4.07</td>\n",
       "            </tr>\n",
       "            <tr>\n",
       "                        <th id=\"T_05fe0bf0_d5d9_11ea_8e31_c4b301c36a45level0_row1\" class=\"row_heading level0 row1\" >1</th>\n",
       "                        <td id=\"T_05fe0bf0_d5d9_11ea_8e31_c4b301c36a45row1_col0\" class=\"data row1 col0\" >Female</td>\n",
       "                        <td id=\"T_05fe0bf0_d5d9_11ea_8e31_c4b301c36a45row1_col1\" class=\"data row1 col1\" >81</td>\n",
       "                        <td id=\"T_05fe0bf0_d5d9_11ea_8e31_c4b301c36a45row1_col2\" class=\"data row1 col2\" >$3.20</td>\n",
       "                        <td id=\"T_05fe0bf0_d5d9_11ea_8e31_c4b301c36a45row1_col3\" class=\"data row1 col3\" >$361.94</td>\n",
       "                        <td id=\"T_05fe0bf0_d5d9_11ea_8e31_c4b301c36a45row1_col4\" class=\"data row1 col4\" >$4.47</td>\n",
       "            </tr>\n",
       "            <tr>\n",
       "                        <th id=\"T_05fe0bf0_d5d9_11ea_8e31_c4b301c36a45level0_row2\" class=\"row_heading level0 row2\" >2</th>\n",
       "                        <td id=\"T_05fe0bf0_d5d9_11ea_8e31_c4b301c36a45row2_col0\" class=\"data row2 col0\" >Other / Non-Disclosed</td>\n",
       "                        <td id=\"T_05fe0bf0_d5d9_11ea_8e31_c4b301c36a45row2_col1\" class=\"data row2 col1\" >11</td>\n",
       "                        <td id=\"T_05fe0bf0_d5d9_11ea_8e31_c4b301c36a45row2_col2\" class=\"data row2 col2\" >$3.35</td>\n",
       "                        <td id=\"T_05fe0bf0_d5d9_11ea_8e31_c4b301c36a45row2_col3\" class=\"data row2 col3\" >$50.19</td>\n",
       "                        <td id=\"T_05fe0bf0_d5d9_11ea_8e31_c4b301c36a45row2_col4\" class=\"data row2 col4\" >$4.56</td>\n",
       "            </tr>\n",
       "    </tbody></table>"
      ],
      "text/plain": [
       "<pandas.io.formats.style.Styler at 0x11ff36080>"
      ]
     },
     "execution_count": 5,
     "metadata": {},
     "output_type": "execute_result"
    }
   ],
   "source": [
    "#Purchase analysis for all genders\n",
    "#same formats just change names and .formulas. use count, mean, sum respectively\n",
    "#Purchase Count\n",
    "#use price and gender\n",
    "#use count to count total of each gender \n",
    "malecount = purchase_data[purchase_data[\"Gender\"] == \"Male\"][\"SN\"].nunique()\n",
    "femalecount = purchase_data[purchase_data[\"Gender\"] == \"Female\"][\"SN\"].nunique()\n",
    "othercount = purchase_data[purchase_data[\"Gender\"] == \"Other / Non-Disclosed\"][\"SN\"].nunique()\n",
    "\n",
    "# avg purchase price\n",
    "# use .mean to get mean\n",
    "malemean = purchase_data[purchase_data[\"Gender\"] == \"Male\"][\"Price\"].mean()\n",
    "femalemean = purchase_data[purchase_data[\"Gender\"] == \"Female\"][\"Price\"].mean()\n",
    "othermean = purchase_data[purchase_data[\"Gender\"] == \"Other / Non-Disclosed\"][\"Price\"].mean()\n",
    "\n",
    "\n",
    "#purchase total per gender\n",
    "#use .sum to sum total purchase\n",
    "malesum = purchase_data[purchase_data[\"Gender\"] == \"Male\"][\"Price\"].sum()\n",
    "femalesum = purchase_data[purchase_data[\"Gender\"] == \"Female\"][\"Price\"].sum()\n",
    "othersum = purchase_data[purchase_data[\"Gender\"] == \"Other / Non-Disclosed\"][\"Price\"].sum()\n",
    "\n",
    "#avg purchase by  the total poeple in a gender\n",
    "#use variables ^^ to calculate\n",
    "#use the sum of total purchase per gender and divide by the count per gender so...\n",
    "# use malesum/malecount\n",
    "avgpergender_male= (malesum/malecount)\n",
    "avgpergender_female= (femalesum/femalecount)\n",
    "avgpergender_other= (othersum/othercount)\n",
    "\n",
    "#make dataframe to table\n",
    "purchase= pd.DataFrame ({\"Gender\" : [\"Male\", \"Female\", \"Other / Non-Disclosed\"],\n",
    "                        \" Purchase Count\": [malecount, femalecount, othercount],\n",
    "                        \"Average Purchase Price\" : [malemean, femalemean, othermean],\n",
    "                        \"Total Purchase Value\" : [malesum, femalesum, othersum],\n",
    "                        \"Avg Total Purchase per Person\" : [avgpergender_male, avgpergender_female, avgpergender_other]\n",
    "                                     })\n",
    "\n",
    "\n",
    "purchase.style.format({\"Average Purchase Price\": \"${:.2f}\",\"Avg Total Purchase per Person\": \"${:.2f}\", \"Total Purchase Value\":\"${:.2f}\"})\n"
   ]
  },
  {
   "cell_type": "markdown",
   "metadata": {},
   "source": [
    "## Age Demographics"
   ]
  },
  {
   "cell_type": "markdown",
   "metadata": {},
   "source": [
    "* Establish bins for ages\n",
    "\n",
    "\n",
    "* Categorize the existing players using the age bins. Hint: use pd.cut()\n",
    "\n",
    "\n",
    "* Calculate the numbers and percentages by age group\n",
    "\n",
    "\n",
    "* Create a summary data frame to hold the results\n",
    "\n",
    "\n",
    "* Optional: round the percentage column to two decimal points\n",
    "\n",
    "\n",
    "* Display Age Demographics Table\n"
   ]
  },
  {
   "cell_type": "code",
   "execution_count": 26,
   "metadata": {},
   "outputs": [
    {
     "ename": "ValueError",
     "evalue": "No axis named SN for object type <class 'pandas.core.frame.DataFrame'>",
     "output_type": "error",
     "traceback": [
      "\u001b[0;31m---------------------------------------------------------------------------\u001b[0m",
      "\u001b[0;31mValueError\u001b[0m                                Traceback (most recent call last)",
      "\u001b[0;32m<ipython-input-26-e17273e0ed6e>\u001b[0m in \u001b[0;36m<module>\u001b[0;34m\u001b[0m\n\u001b[1;32m     11\u001b[0m \u001b[0;31m#purchase_data.head()\u001b[0m\u001b[0;34m\u001b[0m\u001b[0;34m\u001b[0m\u001b[0;34m\u001b[0m\u001b[0m\n\u001b[1;32m     12\u001b[0m \u001b[0;34m\u001b[0m\u001b[0m\n\u001b[0;32m---> 13\u001b[0;31m \u001b[0mpurchase_group\u001b[0m \u001b[0;34m=\u001b[0m \u001b[0mpurchase_data\u001b[0m\u001b[0;34m.\u001b[0m\u001b[0mgroupby\u001b[0m\u001b[0;34m(\u001b[0m\u001b[0;34m\"Age Group\"\u001b[0m\u001b[0;34m,\u001b[0m \u001b[0;34m\"SN\"\u001b[0m\u001b[0;34m)\u001b[0m\u001b[0;34m\u001b[0m\u001b[0;34m\u001b[0m\u001b[0m\n\u001b[0m\u001b[1;32m     14\u001b[0m \u001b[0;34m\u001b[0m\u001b[0m\n\u001b[1;32m     15\u001b[0m \u001b[0;31m#Total_count= pd.DataFramepurchase_group([\"Age Group\"]).count()\u001b[0m\u001b[0;34m\u001b[0m\u001b[0;34m\u001b[0m\u001b[0;34m\u001b[0m\u001b[0m\n",
      "\u001b[0;32m~/opt/anaconda3/envs/PythonData/lib/python3.6/site-packages/pandas/core/frame.py\u001b[0m in \u001b[0;36mgroupby\u001b[0;34m(self, by, axis, level, as_index, sort, group_keys, squeeze, observed)\u001b[0m\n\u001b[1;32m   5797\u001b[0m         \u001b[0;32mif\u001b[0m \u001b[0mlevel\u001b[0m \u001b[0;32mis\u001b[0m \u001b[0;32mNone\u001b[0m \u001b[0;32mand\u001b[0m \u001b[0mby\u001b[0m \u001b[0;32mis\u001b[0m \u001b[0;32mNone\u001b[0m\u001b[0;34m:\u001b[0m\u001b[0;34m\u001b[0m\u001b[0;34m\u001b[0m\u001b[0m\n\u001b[1;32m   5798\u001b[0m             \u001b[0;32mraise\u001b[0m \u001b[0mTypeError\u001b[0m\u001b[0;34m(\u001b[0m\u001b[0;34m\"You have to supply one of 'by' and 'level'\"\u001b[0m\u001b[0;34m)\u001b[0m\u001b[0;34m\u001b[0m\u001b[0;34m\u001b[0m\u001b[0m\n\u001b[0;32m-> 5799\u001b[0;31m         \u001b[0maxis\u001b[0m \u001b[0;34m=\u001b[0m \u001b[0mself\u001b[0m\u001b[0;34m.\u001b[0m\u001b[0m_get_axis_number\u001b[0m\u001b[0;34m(\u001b[0m\u001b[0maxis\u001b[0m\u001b[0;34m)\u001b[0m\u001b[0;34m\u001b[0m\u001b[0;34m\u001b[0m\u001b[0m\n\u001b[0m\u001b[1;32m   5800\u001b[0m \u001b[0;34m\u001b[0m\u001b[0m\n\u001b[1;32m   5801\u001b[0m         return groupby_generic.DataFrameGroupBy(\n",
      "\u001b[0;32m~/opt/anaconda3/envs/PythonData/lib/python3.6/site-packages/pandas/core/generic.py\u001b[0m in \u001b[0;36m_get_axis_number\u001b[0;34m(cls, axis)\u001b[0m\n\u001b[1;32m    405\u001b[0m             \u001b[0;32mexcept\u001b[0m \u001b[0mKeyError\u001b[0m\u001b[0;34m:\u001b[0m\u001b[0;34m\u001b[0m\u001b[0;34m\u001b[0m\u001b[0m\n\u001b[1;32m    406\u001b[0m                 \u001b[0;32mpass\u001b[0m\u001b[0;34m\u001b[0m\u001b[0;34m\u001b[0m\u001b[0m\n\u001b[0;32m--> 407\u001b[0;31m         \u001b[0;32mraise\u001b[0m \u001b[0mValueError\u001b[0m\u001b[0;34m(\u001b[0m\u001b[0;34mf\"No axis named {axis} for object type {cls}\"\u001b[0m\u001b[0;34m)\u001b[0m\u001b[0;34m\u001b[0m\u001b[0;34m\u001b[0m\u001b[0m\n\u001b[0m\u001b[1;32m    408\u001b[0m \u001b[0;34m\u001b[0m\u001b[0m\n\u001b[1;32m    409\u001b[0m     \u001b[0;34m@\u001b[0m\u001b[0mclassmethod\u001b[0m\u001b[0;34m\u001b[0m\u001b[0;34m\u001b[0m\u001b[0m\n",
      "\u001b[0;31mValueError\u001b[0m: No axis named SN for object type <class 'pandas.core.frame.DataFrame'>"
     ]
    }
   ],
   "source": [
    "#age data analysis \n",
    "#print(purchase_data[\"Age\"].max())\n",
    "#print(purchase_data[\"Age\"].min())\n",
    "\n",
    "bins = [0,10,14,19,24,29,34,39,40]\n",
    "group_labels= [\"<10\", \"10-14\", \"15-19\", \"20-24\", \"25-29\", \"30-34\", \"35-39\", \"40+\"]\n",
    "pd.cut(purchase_data[\"Age\"], bins, labels= group_labels)\n",
    "\n",
    "\n",
    "purchase_data[\"Age Group\"] = pd.cut(purchase_data[\"Age\"], bins, labels=group_labels)\n",
    "#purchase_data.head()\n",
    "\n",
    "purchase_group = purchase_data.groupby(\"Age Group\", \"SN\")\n",
    "\n",
    "#Total_count= pd.DataFramepurchase_group([\"Age Group\"]).count()\n",
    "#Total_count.columns= [\"Total Count\"]\n",
    "\n",
    "purchase_group[[\"Total Count\", \"Percentage of Players\"]]\n",
    "age_group = pd.DataFrame ({ \"Age Groups\" : [group_labels],\n",
    "                          \"Total Count\": [Total_count],\n",
    "                          })\n",
    "age_group\n",
    "#age_group[[\"Age Groups\", \"Total Count\"]].count() \n",
    "#age_group\n",
    "#output= (\n",
    "      #  f\"Age Groups: {group_labels}\"+\n",
    "       # f\"Total Count: {Total_count}\")\n",
    "#print (output)\n",
    "\n"
   ]
  },
  {
   "cell_type": "markdown",
   "metadata": {},
   "source": [
    "## Purchasing Analysis (Age)"
   ]
  },
  {
   "cell_type": "markdown",
   "metadata": {},
   "source": [
    "* Bin the purchase_data data frame by age\n",
    "\n",
    "\n",
    "* Run basic calculations to obtain purchase count, avg. purchase price, avg. purchase total per person etc. in the table below\n",
    "\n",
    "\n",
    "* Create a summary data frame to hold the results\n",
    "\n",
    "\n",
    "* Optional: give the displayed data cleaner formatting\n",
    "\n",
    "\n",
    "* Display the summary data frame"
   ]
  },
  {
   "cell_type": "code",
   "execution_count": 25,
   "metadata": {},
   "outputs": [
    {
     "ename": "SyntaxError",
     "evalue": "unexpected EOF while parsing (<ipython-input-25-f0b43261c185>, line 14)",
     "output_type": "error",
     "traceback": [
      "\u001b[0;36m  File \u001b[0;32m\"<ipython-input-25-f0b43261c185>\"\u001b[0;36m, line \u001b[0;32m14\u001b[0m\n\u001b[0;31m    purchcount = purchase_group[purchase_group[\"Age Group\"] + [\"Item Name\"].sum()\u001b[0m\n\u001b[0m                                                                                 ^\u001b[0m\n\u001b[0;31mSyntaxError\u001b[0m\u001b[0;31m:\u001b[0m unexpected EOF while parsing\n"
     ]
    }
   ],
   "source": [
    "#purchase by age only\n",
    "bins = [0,10,14,19,24,29,34,39,40]\n",
    "group_labels= [\"<10\", \"10-14\", \"15-19\", \"20-24\", \"25-29\", \"30-34\", \"35-39\", \"40+\"]\n",
    "pd.cut(purchase_data[\"Age\"], bins, labels= group_labels)\n",
    "\n",
    "purchase_data[\"Age Group\"] = pd.cut(purchase_data[\"Age\"], bins, labels=group_labels)\n",
    "#purchase_data.head()\n",
    "\n",
    "purchase_group = purchase_data.groupby(\"Age Group\")\n",
    "\n",
    "Total_count= purchase_group[\"Age Group\"].count()\n",
    "\n",
    "#new code\n",
    "purchcount = purchase_group[purchase_group[\"Age Group\"] + [\"Item Name\"].sum()\n"
   ]
  },
  {
   "cell_type": "markdown",
   "metadata": {},
   "source": [
    "## Top Spenders"
   ]
  },
  {
   "cell_type": "markdown",
   "metadata": {},
   "source": [
    "* Run basic calculations to obtain the results in the table below\n",
    "\n",
    "\n",
    "* Create a summary data frame to hold the results\n",
    "\n",
    "\n",
    "* Sort the total purchase value column in descending order\n",
    "\n",
    "\n",
    "* Optional: give the displayed data cleaner formatting\n",
    "\n",
    "\n",
    "* Display a preview of the summary data frame\n",
    "\n"
   ]
  },
  {
   "cell_type": "code",
   "execution_count": null,
   "metadata": {},
   "outputs": [],
   "source": []
  },
  {
   "cell_type": "markdown",
   "metadata": {},
   "source": [
    "## Most Popular Items"
   ]
  },
  {
   "cell_type": "markdown",
   "metadata": {},
   "source": [
    "* Retrieve the Item ID, Item Name, and Item Price columns\n",
    "\n",
    "\n",
    "* Group by Item ID and Item Name. Perform calculations to obtain purchase count, item price, and total purchase value\n",
    "\n",
    "\n",
    "* Create a summary data frame to hold the results\n",
    "\n",
    "\n",
    "* Sort the purchase count column in descending order\n",
    "\n",
    "\n",
    "* Optional: give the displayed data cleaner formatting\n",
    "\n",
    "\n",
    "* Display a preview of the summary data frame\n",
    "\n"
   ]
  },
  {
   "cell_type": "code",
   "execution_count": null,
   "metadata": {},
   "outputs": [],
   "source": []
  },
  {
   "cell_type": "markdown",
   "metadata": {},
   "source": [
    "## Most Profitable Items"
   ]
  },
  {
   "cell_type": "markdown",
   "metadata": {},
   "source": [
    "* Sort the above table by total purchase value in descending order\n",
    "\n",
    "\n",
    "* Optional: give the displayed data cleaner formatting\n",
    "\n",
    "\n",
    "* Display a preview of the data frame\n",
    "\n"
   ]
  },
  {
   "cell_type": "code",
   "execution_count": null,
   "metadata": {
    "scrolled": true
   },
   "outputs": [],
   "source": []
  }
 ],
 "metadata": {
  "anaconda-cloud": {},
  "kernel_info": {
   "name": "python3"
  },
  "kernelspec": {
   "display_name": "Python 3",
   "language": "python",
   "name": "python3"
  },
  "language_info": {
   "codemirror_mode": {
    "name": "ipython",
    "version": 3
   },
   "file_extension": ".py",
   "mimetype": "text/x-python",
   "name": "python",
   "nbconvert_exporter": "python",
   "pygments_lexer": "ipython3",
   "version": "3.6.10"
  },
  "latex_envs": {
   "LaTeX_envs_menu_present": true,
   "autoclose": false,
   "autocomplete": true,
   "bibliofile": "biblio.bib",
   "cite_by": "apalike",
   "current_citInitial": 1,
   "eqLabelWithNumbers": true,
   "eqNumInitial": 1,
   "hotkeys": {
    "equation": "Ctrl-E",
    "itemize": "Ctrl-I"
   },
   "labels_anchors": false,
   "latex_user_defs": false,
   "report_style_numbering": false,
   "user_envs_cfg": false
  },
  "nteract": {
   "version": "0.2.0"
  }
 },
 "nbformat": 4,
 "nbformat_minor": 2
}
