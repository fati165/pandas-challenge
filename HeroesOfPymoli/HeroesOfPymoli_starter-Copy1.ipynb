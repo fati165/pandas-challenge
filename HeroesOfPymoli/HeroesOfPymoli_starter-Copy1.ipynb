{
 "cells": [
  {
   "cell_type": "markdown",
   "metadata": {},
   "source": [
    "### Note\n",
    "* Instructions have been included for each segment. You do not have to follow them exactly, but they are included to help you think through the steps."
   ]
  },
  {
   "cell_type": "code",
   "execution_count": 1,
   "metadata": {},
   "outputs": [],
   "source": [
    "# Dependencies and Setup\n",
    "import pandas as pd\n",
    "\n",
    "# File to Load (Remember to Change These)\n",
    "file_to_load = \"Resources/purchase_data.csv\"\n",
    "\n",
    "# Read Purchasing File and store into Pandas data frame\n",
    "purchase_data = pd.read_csv(file_to_load)\n"
   ]
  },
  {
   "cell_type": "markdown",
   "metadata": {},
   "source": [
    "## Player Count"
   ]
  },
  {
   "cell_type": "markdown",
   "metadata": {},
   "source": [
    "* Display the total number of players\n"
   ]
  },
  {
   "cell_type": "code",
   "execution_count": 2,
   "metadata": {},
   "outputs": [
    {
     "data": {
      "text/html": [
       "<div>\n",
       "<style scoped>\n",
       "    .dataframe tbody tr th:only-of-type {\n",
       "        vertical-align: middle;\n",
       "    }\n",
       "\n",
       "    .dataframe tbody tr th {\n",
       "        vertical-align: top;\n",
       "    }\n",
       "\n",
       "    .dataframe thead th {\n",
       "        text-align: right;\n",
       "    }\n",
       "</style>\n",
       "<table border=\"1\" class=\"dataframe\">\n",
       "  <thead>\n",
       "    <tr style=\"text-align: right;\">\n",
       "      <th></th>\n",
       "      <th>players count</th>\n",
       "    </tr>\n",
       "  </thead>\n",
       "  <tbody>\n",
       "    <tr>\n",
       "      <th>0</th>\n",
       "      <td>576</td>\n",
       "    </tr>\n",
       "  </tbody>\n",
       "</table>\n",
       "</div>"
      ],
      "text/plain": [
       "   players count\n",
       "0            576"
      ]
     },
     "execution_count": 2,
     "metadata": {},
     "output_type": "execute_result"
    }
   ],
   "source": [
    "#number of players: do SN to count the names, w/o counting duplicate use unique\n",
    "#when using unique use len\n",
    "players= len(purchase_data[\"SN\"].unique())\n",
    "\n",
    "#creat a variablr that'll hold the important columns!\n",
    "player2= purchase_data[[\"Gender\", \"SN\", \"Age\"]]\n",
    "\n",
    "# Create a data frame\n",
    "count = pd.DataFrame({\"players count\":[players]})\n",
    "count\n"
   ]
  },
  {
   "cell_type": "code",
   "execution_count": 3,
   "metadata": {},
   "outputs": [
    {
     "data": {
      "text/html": [
       "<div>\n",
       "<style scoped>\n",
       "    .dataframe tbody tr th:only-of-type {\n",
       "        vertical-align: middle;\n",
       "    }\n",
       "\n",
       "    .dataframe tbody tr th {\n",
       "        vertical-align: top;\n",
       "    }\n",
       "\n",
       "    .dataframe thead th {\n",
       "        text-align: right;\n",
       "    }\n",
       "</style>\n",
       "<table border=\"1\" class=\"dataframe\">\n",
       "  <thead>\n",
       "    <tr style=\"text-align: right;\">\n",
       "      <th></th>\n",
       "      <th>Gender</th>\n",
       "      <th>SN</th>\n",
       "      <th>Age</th>\n",
       "    </tr>\n",
       "  </thead>\n",
       "  <tbody>\n",
       "    <tr>\n",
       "      <th>0</th>\n",
       "      <td>Male</td>\n",
       "      <td>Lisim78</td>\n",
       "      <td>20</td>\n",
       "    </tr>\n",
       "    <tr>\n",
       "      <th>1</th>\n",
       "      <td>Male</td>\n",
       "      <td>Lisovynya38</td>\n",
       "      <td>40</td>\n",
       "    </tr>\n",
       "    <tr>\n",
       "      <th>2</th>\n",
       "      <td>Male</td>\n",
       "      <td>Ithergue48</td>\n",
       "      <td>24</td>\n",
       "    </tr>\n",
       "    <tr>\n",
       "      <th>3</th>\n",
       "      <td>Male</td>\n",
       "      <td>Chamassasya86</td>\n",
       "      <td>24</td>\n",
       "    </tr>\n",
       "    <tr>\n",
       "      <th>4</th>\n",
       "      <td>Male</td>\n",
       "      <td>Iskosia90</td>\n",
       "      <td>23</td>\n",
       "    </tr>\n",
       "    <tr>\n",
       "      <th>...</th>\n",
       "      <td>...</td>\n",
       "      <td>...</td>\n",
       "      <td>...</td>\n",
       "    </tr>\n",
       "    <tr>\n",
       "      <th>773</th>\n",
       "      <td>Male</td>\n",
       "      <td>Hala31</td>\n",
       "      <td>21</td>\n",
       "    </tr>\n",
       "    <tr>\n",
       "      <th>774</th>\n",
       "      <td>Male</td>\n",
       "      <td>Jiskjask80</td>\n",
       "      <td>11</td>\n",
       "    </tr>\n",
       "    <tr>\n",
       "      <th>775</th>\n",
       "      <td>Female</td>\n",
       "      <td>Aethedru70</td>\n",
       "      <td>21</td>\n",
       "    </tr>\n",
       "    <tr>\n",
       "      <th>777</th>\n",
       "      <td>Male</td>\n",
       "      <td>Yathecal72</td>\n",
       "      <td>20</td>\n",
       "    </tr>\n",
       "    <tr>\n",
       "      <th>778</th>\n",
       "      <td>Male</td>\n",
       "      <td>Sisur91</td>\n",
       "      <td>7</td>\n",
       "    </tr>\n",
       "  </tbody>\n",
       "</table>\n",
       "<p>576 rows × 3 columns</p>\n",
       "</div>"
      ],
      "text/plain": [
       "     Gender             SN  Age\n",
       "0      Male        Lisim78   20\n",
       "1      Male    Lisovynya38   40\n",
       "2      Male     Ithergue48   24\n",
       "3      Male  Chamassasya86   24\n",
       "4      Male      Iskosia90   23\n",
       "..      ...            ...  ...\n",
       "773    Male         Hala31   21\n",
       "774    Male     Jiskjask80   11\n",
       "775  Female     Aethedru70   21\n",
       "777    Male     Yathecal72   20\n",
       "778    Male        Sisur91    7\n",
       "\n",
       "[576 rows x 3 columns]"
      ]
     },
     "execution_count": 3,
     "metadata": {},
     "output_type": "execute_result"
    }
   ],
   "source": [
    "player2= player2.drop_duplicates()\n",
    "player2\n"
   ]
  },
  {
   "cell_type": "markdown",
   "metadata": {},
   "source": [
    "## Purchasing Analysis (Total)"
   ]
  },
  {
   "cell_type": "markdown",
   "metadata": {},
   "source": [
    "* Run basic calculations to obtain number of unique items, average price, etc.\n",
    "\n",
    "\n",
    "* Create a summary data frame to hold the results\n",
    "\n",
    "\n",
    "* Optional: give the displayed data cleaner formatting\n",
    "\n",
    "\n",
    "* Display the summary data frame\n"
   ]
  },
  {
   "cell_type": "code",
   "execution_count": 20,
   "metadata": {
    "scrolled": true
   },
   "outputs": [
    {
     "data": {
      "text/html": [
       "<style  type=\"text/css\" >\n",
       "</style><table id=\"T_f8a94326_d6db_11ea_9d4a_c4b301c36a45\" ><thead>    <tr>        <th class=\"blank level0\" ></th>        <th class=\"col_heading level0 col0\" >unique items</th>        <th class=\"col_heading level0 col1\" >Average Price</th>        <th class=\"col_heading level0 col2\" >Number of Purchases</th>        <th class=\"col_heading level0 col3\" >total revenue</th>    </tr></thead><tbody>\n",
       "                <tr>\n",
       "                        <th id=\"T_f8a94326_d6db_11ea_9d4a_c4b301c36a45level0_row0\" class=\"row_heading level0 row0\" >0</th>\n",
       "                        <td id=\"T_f8a94326_d6db_11ea_9d4a_c4b301c36a45row0_col0\" class=\"data row0 col0\" >179</td>\n",
       "                        <td id=\"T_f8a94326_d6db_11ea_9d4a_c4b301c36a45row0_col1\" class=\"data row0 col1\" >$3.05</td>\n",
       "                        <td id=\"T_f8a94326_d6db_11ea_9d4a_c4b301c36a45row0_col2\" class=\"data row0 col2\" >780</td>\n",
       "                        <td id=\"T_f8a94326_d6db_11ea_9d4a_c4b301c36a45row0_col3\" class=\"data row0 col3\" >$2379.77</td>\n",
       "            </tr>\n",
       "    </tbody></table>"
      ],
      "text/plain": [
       "<pandas.io.formats.style.Styler at 0x11fee6490>"
      ]
     },
     "execution_count": 20,
     "metadata": {},
     "output_type": "execute_result"
    }
   ],
   "source": [
    "#number of unique items\n",
    "unique_items = len(purchase_data[\"Item ID\"].unique())\n",
    "#unique_items\n",
    "\n",
    "#average price\n",
    "#name=df[].mean()\n",
    "Average_Price = purchase_data[\"Price\"].mean()\n",
    "\n",
    "#Number of Purchases\n",
    "#same formula^^\n",
    "Number_of_Purchases = purchase_data[\"Purchase ID\"].count()\n",
    "\n",
    "#sum\n",
    "#same same\n",
    "total_revenue = purchase_data[\"Price\"].sum()\n",
    "\n",
    "\n",
    "#purchase_data[\"Number of Unique Items\"]= len(purchase_data[\"Item ID\"].unique())?\n",
    "    #^no!\n",
    "#make new dataframe, do method 1: list of dictionaries\n",
    "#words not in quotes belong in brackets\n",
    "#assign names to bracket values in a dictionary\n",
    "\n",
    "#use pd.DataFrame to make a table from the dict!!! otherwise it wont be organized\n",
    "\n",
    "summ_df = pd.DataFrame({\"unique items\": [unique_items],\n",
    "               \"Average Price\": [Average_Price],\n",
    "               \"Number of Purchases\" : [Number_of_Purchases],\n",
    "               \"total revenue\" :[total_revenue]})\n",
    "summ_df\n",
    "\n",
    "#  add dollars and 2 decimals for price and revenue\n",
    "    \n",
    "#combine in a single code!\n",
    "summ_df.style.format({\"Average Price\": \"${:.2f}\", \"total revenue\": \"${:.2f}\"})"
   ]
  },
  {
   "cell_type": "markdown",
   "metadata": {},
   "source": [
    "## Gender Demographics"
   ]
  },
  {
   "cell_type": "markdown",
   "metadata": {},
   "source": [
    "* Percentage and Count of Male Players\n",
    "\n",
    "\n",
    "* Percentage and Count of Female Players\n",
    "\n",
    "\n",
    "* Percentage and Count of Other / Non-Disclosed\n",
    "\n",
    "\n"
   ]
  },
  {
   "cell_type": "code",
   "execution_count": 21,
   "metadata": {
    "scrolled": true
   },
   "outputs": [
    {
     "data": {
      "text/html": [
       "<style  type=\"text/css\" >\n",
       "</style><table id=\"T_fa632a1a_d6db_11ea_9d4a_c4b301c36a45\" ><thead>    <tr>        <th class=\"blank level0\" ></th>        <th class=\"col_heading level0 col0\" >Gender</th>        <th class=\"col_heading level0 col1\" >Total Count</th>        <th class=\"col_heading level0 col2\" >Percentage of Players</th>    </tr></thead><tbody>\n",
       "                <tr>\n",
       "                        <th id=\"T_fa632a1a_d6db_11ea_9d4a_c4b301c36a45level0_row0\" class=\"row_heading level0 row0\" >0</th>\n",
       "                        <td id=\"T_fa632a1a_d6db_11ea_9d4a_c4b301c36a45row0_col0\" class=\"data row0 col0\" >Male</td>\n",
       "                        <td id=\"T_fa632a1a_d6db_11ea_9d4a_c4b301c36a45row0_col1\" class=\"data row0 col1\" >484</td>\n",
       "                        <td id=\"T_fa632a1a_d6db_11ea_9d4a_c4b301c36a45row0_col2\" class=\"data row0 col2\" >62.05%</td>\n",
       "            </tr>\n",
       "            <tr>\n",
       "                        <th id=\"T_fa632a1a_d6db_11ea_9d4a_c4b301c36a45level0_row1\" class=\"row_heading level0 row1\" >1</th>\n",
       "                        <td id=\"T_fa632a1a_d6db_11ea_9d4a_c4b301c36a45row1_col0\" class=\"data row1 col0\" >Female</td>\n",
       "                        <td id=\"T_fa632a1a_d6db_11ea_9d4a_c4b301c36a45row1_col1\" class=\"data row1 col1\" >81</td>\n",
       "                        <td id=\"T_fa632a1a_d6db_11ea_9d4a_c4b301c36a45row1_col2\" class=\"data row1 col2\" >10.38%</td>\n",
       "            </tr>\n",
       "            <tr>\n",
       "                        <th id=\"T_fa632a1a_d6db_11ea_9d4a_c4b301c36a45level0_row2\" class=\"row_heading level0 row2\" >2</th>\n",
       "                        <td id=\"T_fa632a1a_d6db_11ea_9d4a_c4b301c36a45row2_col0\" class=\"data row2 col0\" >Other / Non-Disclosed</td>\n",
       "                        <td id=\"T_fa632a1a_d6db_11ea_9d4a_c4b301c36a45row2_col1\" class=\"data row2 col1\" >11</td>\n",
       "                        <td id=\"T_fa632a1a_d6db_11ea_9d4a_c4b301c36a45row2_col2\" class=\"data row2 col2\" >1.41%</td>\n",
       "            </tr>\n",
       "    </tbody></table>"
      ],
      "text/plain": [
       "<pandas.io.formats.style.Styler at 0x11fba7150>"
      ]
     },
     "execution_count": 21,
     "metadata": {},
     "output_type": "execute_result"
    }
   ],
   "source": [
    "#Total count \n",
    "#make a variable that'll hold the total to use for calculations\n",
    "allGender= purchase_data[\"SN\"].count()\n",
    "\n",
    "# count for sum\n",
    "malecount = purchase_data[purchase_data[\"Gender\"] == \"Male\"][\"SN\"].nunique()\n",
    "femalecount = purchase_data[purchase_data[\"Gender\"] == \"Female\"][\"SN\"].nunique()\n",
    "other = purchase_data[purchase_data[\"Gender\"] == \"Other / Non-Disclosed\"][\"SN\"].nunique()\n",
    "\n",
    "# calc for percent\n",
    "\n",
    "malecalc= ((malecount/allGender)*100)\n",
    "femalecalc= ((femalecount/allGender)*100)\n",
    "othercalc= ((other/allGender)*100)\n",
    "\n",
    "#make new dataframe to compile results\n",
    "\n",
    "genders = pd.DataFrame({\"Gender\": [\"Male\", \"Female\", \"Other / Non-Disclosed\"],\n",
    "                        \"Total Count\": [malecount, femalecount, other],#no quotations, they hold the count\n",
    "                        \"Percentage of Players\": [malecalc, femalecalc, othercalc]\n",
    "                       })\n",
    "\n",
    "genders.style.format({\"Percentage of Players\": \"{:.2f}%\" })\n"
   ]
  },
  {
   "cell_type": "markdown",
   "metadata": {},
   "source": [
    "\n",
    "## Purchasing Analysis (Gender)"
   ]
  },
  {
   "cell_type": "markdown",
   "metadata": {},
   "source": [
    "* Run basic calculations to obtain purchase count, avg. purchase price, avg. purchase total per person etc. by gender\n",
    "\n",
    "\n",
    "\n",
    "\n",
    "* Create a summary data frame to hold the results\n",
    "\n",
    "\n",
    "* Optional: give the displayed data cleaner formatting\n",
    "\n",
    "\n",
    "* Display the summary data frame"
   ]
  },
  {
   "cell_type": "code",
   "execution_count": 22,
   "metadata": {},
   "outputs": [
    {
     "data": {
      "text/html": [
       "<style  type=\"text/css\" >\n",
       "</style><table id=\"T_fee278ac_d6db_11ea_9d4a_c4b301c36a45\" ><thead>    <tr>        <th class=\"blank level0\" ></th>        <th class=\"col_heading level0 col0\" >Gender</th>        <th class=\"col_heading level0 col1\" > Purchase Count</th>        <th class=\"col_heading level0 col2\" >Average Purchase Price</th>        <th class=\"col_heading level0 col3\" >Total Purchase Value</th>        <th class=\"col_heading level0 col4\" >Avg Total Purchase per Person</th>    </tr></thead><tbody>\n",
       "                <tr>\n",
       "                        <th id=\"T_fee278ac_d6db_11ea_9d4a_c4b301c36a45level0_row0\" class=\"row_heading level0 row0\" >0</th>\n",
       "                        <td id=\"T_fee278ac_d6db_11ea_9d4a_c4b301c36a45row0_col0\" class=\"data row0 col0\" >Male</td>\n",
       "                        <td id=\"T_fee278ac_d6db_11ea_9d4a_c4b301c36a45row0_col1\" class=\"data row0 col1\" >484</td>\n",
       "                        <td id=\"T_fee278ac_d6db_11ea_9d4a_c4b301c36a45row0_col2\" class=\"data row0 col2\" >$3.02</td>\n",
       "                        <td id=\"T_fee278ac_d6db_11ea_9d4a_c4b301c36a45row0_col3\" class=\"data row0 col3\" >$1967.64</td>\n",
       "                        <td id=\"T_fee278ac_d6db_11ea_9d4a_c4b301c36a45row0_col4\" class=\"data row0 col4\" >$4.07</td>\n",
       "            </tr>\n",
       "            <tr>\n",
       "                        <th id=\"T_fee278ac_d6db_11ea_9d4a_c4b301c36a45level0_row1\" class=\"row_heading level0 row1\" >1</th>\n",
       "                        <td id=\"T_fee278ac_d6db_11ea_9d4a_c4b301c36a45row1_col0\" class=\"data row1 col0\" >Female</td>\n",
       "                        <td id=\"T_fee278ac_d6db_11ea_9d4a_c4b301c36a45row1_col1\" class=\"data row1 col1\" >81</td>\n",
       "                        <td id=\"T_fee278ac_d6db_11ea_9d4a_c4b301c36a45row1_col2\" class=\"data row1 col2\" >$3.20</td>\n",
       "                        <td id=\"T_fee278ac_d6db_11ea_9d4a_c4b301c36a45row1_col3\" class=\"data row1 col3\" >$361.94</td>\n",
       "                        <td id=\"T_fee278ac_d6db_11ea_9d4a_c4b301c36a45row1_col4\" class=\"data row1 col4\" >$4.47</td>\n",
       "            </tr>\n",
       "            <tr>\n",
       "                        <th id=\"T_fee278ac_d6db_11ea_9d4a_c4b301c36a45level0_row2\" class=\"row_heading level0 row2\" >2</th>\n",
       "                        <td id=\"T_fee278ac_d6db_11ea_9d4a_c4b301c36a45row2_col0\" class=\"data row2 col0\" >Other / Non-Disclosed</td>\n",
       "                        <td id=\"T_fee278ac_d6db_11ea_9d4a_c4b301c36a45row2_col1\" class=\"data row2 col1\" >11</td>\n",
       "                        <td id=\"T_fee278ac_d6db_11ea_9d4a_c4b301c36a45row2_col2\" class=\"data row2 col2\" >$3.35</td>\n",
       "                        <td id=\"T_fee278ac_d6db_11ea_9d4a_c4b301c36a45row2_col3\" class=\"data row2 col3\" >$50.19</td>\n",
       "                        <td id=\"T_fee278ac_d6db_11ea_9d4a_c4b301c36a45row2_col4\" class=\"data row2 col4\" >$4.56</td>\n",
       "            </tr>\n",
       "    </tbody></table>"
      ],
      "text/plain": [
       "<pandas.io.formats.style.Styler at 0x11fbf7a90>"
      ]
     },
     "execution_count": 22,
     "metadata": {},
     "output_type": "execute_result"
    }
   ],
   "source": [
    "#Purchase analysis for all genders\n",
    "#same formats just change names and .formulas. use count, mean, sum respectively\n",
    "#Purchase Count\n",
    "#use price and gender\n",
    "#use count to count total of each gender \n",
    "malecount = purchase_data[purchase_data[\"Gender\"] == \"Male\"][\"SN\"].nunique()\n",
    "femalecount = purchase_data[purchase_data[\"Gender\"] == \"Female\"][\"SN\"].nunique()\n",
    "othercount = purchase_data[purchase_data[\"Gender\"] == \"Other / Non-Disclosed\"][\"SN\"].nunique()\n",
    "\n",
    "# avg purchase price\n",
    "# use .mean to get mean\n",
    "malemean = purchase_data[purchase_data[\"Gender\"] == \"Male\"][\"Price\"].mean()\n",
    "femalemean = purchase_data[purchase_data[\"Gender\"] == \"Female\"][\"Price\"].mean()\n",
    "othermean = purchase_data[purchase_data[\"Gender\"] == \"Other / Non-Disclosed\"][\"Price\"].mean()\n",
    "\n",
    "\n",
    "#purchase total per gender\n",
    "#use .sum to sum total purchase\n",
    "malesum = purchase_data[purchase_data[\"Gender\"] == \"Male\"][\"Price\"].sum()\n",
    "femalesum = purchase_data[purchase_data[\"Gender\"] == \"Female\"][\"Price\"].sum()\n",
    "othersum = purchase_data[purchase_data[\"Gender\"] == \"Other / Non-Disclosed\"][\"Price\"].sum()\n",
    "\n",
    "#avg purchase by  the total poeple in a gender\n",
    "#use variables ^^ to calculate\n",
    "#use the sum of total purchase per gender and divide by the count per gender so...\n",
    "# use malesum/malecount\n",
    "avgpergender_male= (malesum/malecount)\n",
    "avgpergender_female= (femalesum/femalecount)\n",
    "avgpergender_other= (othersum/othercount)\n",
    "\n",
    "#make dataframe to table\n",
    "purchase= pd.DataFrame ({\"Gender\" : [\"Male\", \"Female\", \"Other / Non-Disclosed\"],\n",
    "                        \" Purchase Count\": [malecount, femalecount, othercount],\n",
    "                        \"Average Purchase Price\" : [malemean, femalemean, othermean],\n",
    "                        \"Total Purchase Value\" : [malesum, femalesum, othersum],\n",
    "                        \"Avg Total Purchase per Person\" : [avgpergender_male, avgpergender_female, avgpergender_other]\n",
    "                                     })\n",
    "\n",
    "\n",
    "purchase.style.format({\"Average Purchase Price\": \"${:.2f}\",\"Avg Total Purchase per Person\": \"${:.2f}\", \"Total Purchase Value\":\"${:.2f}\"})\n"
   ]
  },
  {
   "cell_type": "markdown",
   "metadata": {},
   "source": [
    "## Age Demographics"
   ]
  },
  {
   "cell_type": "markdown",
   "metadata": {},
   "source": [
    "* Establish bins for ages\n",
    "\n",
    "\n",
    "* Categorize the existing players using the age bins. Hint: use pd.cut()\n",
    "\n",
    "\n",
    "* Calculate the numbers and percentages by age group\n",
    "\n",
    "\n",
    "* Create a summary data frame to hold the results\n",
    "\n",
    "\n",
    "* Optional: round the percentage column to two decimal points\n",
    "\n",
    "\n",
    "* Display Age Demographics Table\n"
   ]
  },
  {
   "cell_type": "code",
   "execution_count": 23,
   "metadata": {},
   "outputs": [
    {
     "data": {
      "text/html": [
       "<style  type=\"text/css\" >\n",
       "</style><table id=\"T_01059204_d6dc_11ea_9d4a_c4b301c36a45\" ><thead>    <tr>        <th class=\"blank level0\" ></th>        <th class=\"col_heading level0 col0\" >Total Count</th>        <th class=\"col_heading level0 col1\" >Percent</th>    </tr>    <tr>        <th class=\"index_name level0\" >Age Group</th>        <th class=\"blank\" ></th>        <th class=\"blank\" ></th>    </tr></thead><tbody>\n",
       "                <tr>\n",
       "                        <th id=\"T_01059204_d6dc_11ea_9d4a_c4b301c36a45level0_row0\" class=\"row_heading level0 row0\" ><10</th>\n",
       "                        <td id=\"T_01059204_d6dc_11ea_9d4a_c4b301c36a45row0_col0\" class=\"data row0 col0\" >24</td>\n",
       "                        <td id=\"T_01059204_d6dc_11ea_9d4a_c4b301c36a45row0_col1\" class=\"data row0 col1\" >4.22%</td>\n",
       "            </tr>\n",
       "            <tr>\n",
       "                        <th id=\"T_01059204_d6dc_11ea_9d4a_c4b301c36a45level0_row1\" class=\"row_heading level0 row1\" >10-14</th>\n",
       "                        <td id=\"T_01059204_d6dc_11ea_9d4a_c4b301c36a45row1_col0\" class=\"data row1 col0\" >15</td>\n",
       "                        <td id=\"T_01059204_d6dc_11ea_9d4a_c4b301c36a45row1_col1\" class=\"data row1 col1\" >2.64%</td>\n",
       "            </tr>\n",
       "            <tr>\n",
       "                        <th id=\"T_01059204_d6dc_11ea_9d4a_c4b301c36a45level0_row2\" class=\"row_heading level0 row2\" >15-19</th>\n",
       "                        <td id=\"T_01059204_d6dc_11ea_9d4a_c4b301c36a45row2_col0\" class=\"data row2 col0\" >107</td>\n",
       "                        <td id=\"T_01059204_d6dc_11ea_9d4a_c4b301c36a45row2_col1\" class=\"data row2 col1\" >18.80%</td>\n",
       "            </tr>\n",
       "            <tr>\n",
       "                        <th id=\"T_01059204_d6dc_11ea_9d4a_c4b301c36a45level0_row3\" class=\"row_heading level0 row3\" >20-24</th>\n",
       "                        <td id=\"T_01059204_d6dc_11ea_9d4a_c4b301c36a45row3_col0\" class=\"data row3 col0\" >258</td>\n",
       "                        <td id=\"T_01059204_d6dc_11ea_9d4a_c4b301c36a45row3_col1\" class=\"data row3 col1\" >45.34%</td>\n",
       "            </tr>\n",
       "            <tr>\n",
       "                        <th id=\"T_01059204_d6dc_11ea_9d4a_c4b301c36a45level0_row4\" class=\"row_heading level0 row4\" >25-29</th>\n",
       "                        <td id=\"T_01059204_d6dc_11ea_9d4a_c4b301c36a45row4_col0\" class=\"data row4 col0\" >77</td>\n",
       "                        <td id=\"T_01059204_d6dc_11ea_9d4a_c4b301c36a45row4_col1\" class=\"data row4 col1\" >13.53%</td>\n",
       "            </tr>\n",
       "            <tr>\n",
       "                        <th id=\"T_01059204_d6dc_11ea_9d4a_c4b301c36a45level0_row5\" class=\"row_heading level0 row5\" >30-34</th>\n",
       "                        <td id=\"T_01059204_d6dc_11ea_9d4a_c4b301c36a45row5_col0\" class=\"data row5 col0\" >52</td>\n",
       "                        <td id=\"T_01059204_d6dc_11ea_9d4a_c4b301c36a45row5_col1\" class=\"data row5 col1\" >9.14%</td>\n",
       "            </tr>\n",
       "            <tr>\n",
       "                        <th id=\"T_01059204_d6dc_11ea_9d4a_c4b301c36a45level0_row6\" class=\"row_heading level0 row6\" >35-39</th>\n",
       "                        <td id=\"T_01059204_d6dc_11ea_9d4a_c4b301c36a45row6_col0\" class=\"data row6 col0\" >31</td>\n",
       "                        <td id=\"T_01059204_d6dc_11ea_9d4a_c4b301c36a45row6_col1\" class=\"data row6 col1\" >5.45%</td>\n",
       "            </tr>\n",
       "            <tr>\n",
       "                        <th id=\"T_01059204_d6dc_11ea_9d4a_c4b301c36a45level0_row7\" class=\"row_heading level0 row7\" >40+</th>\n",
       "                        <td id=\"T_01059204_d6dc_11ea_9d4a_c4b301c36a45row7_col0\" class=\"data row7 col0\" >5</td>\n",
       "                        <td id=\"T_01059204_d6dc_11ea_9d4a_c4b301c36a45row7_col1\" class=\"data row7 col1\" >0.88%</td>\n",
       "            </tr>\n",
       "    </tbody></table>"
      ],
      "text/plain": [
       "<pandas.io.formats.style.Styler at 0x11f332390>"
      ]
     },
     "execution_count": 23,
     "metadata": {},
     "output_type": "execute_result"
    }
   ],
   "source": [
    "#bin, groupby, calculate, make data frame, format\n",
    "\n",
    "#bins, use player 2?\n",
    "bins = [0,10,14,19,24,29,34,39,40]\n",
    "group_labels= [\"<10\", \"10-14\", \"15-19\", \"20-24\", \"25-29\", \"30-34\", \"35-39\", \"40+\"]\n",
    "pd.cut(player2[\"Age\"], bins, labels= group_labels)\n",
    "player2[\"Age Group\"] = pd.cut(player2[\"Age\"], bins, labels=group_labels)\n",
    "\n",
    "#groupby the \"Age Group\"\n",
    "agegroupy = player2.groupby([\"Age Group\"])\n",
    "\n",
    "#calculate\n",
    "#total count\n",
    "Total= agegroupy[\"Age\"].count()\n",
    "\n",
    "#percent\n",
    "ageperc= sum(Total)\n",
    "agepercent= (Total/ageperc)*100\n",
    "\n",
    "\n",
    "#make data frame\n",
    "age_group= pd.DataFrame({ \"Total Count\": Total,\n",
    "                         \"Percent\" : agepercent\n",
    "                        })\n",
    "age_group\n",
    "    \n",
    "age_group.style.format({\"Percent\": \"{:.2f}%\"}) \n"
   ]
  },
  {
   "cell_type": "markdown",
   "metadata": {},
   "source": [
    "## Purchasing Analysis (Age)"
   ]
  },
  {
   "cell_type": "markdown",
   "metadata": {},
   "source": [
    "* Bin the purchase_data data frame by age\n",
    "\n",
    "\n",
    "* Run basic calculations to obtain purchase count, avg. purchase price, avg. purchase total per person etc. in the table below\n",
    "\n",
    "\n",
    "* Create a summary data frame to hold the results\n",
    "\n",
    "\n",
    "* Optional: give the displayed data cleaner formatting\n",
    "\n",
    "\n",
    "* Display the summary data frame"
   ]
  },
  {
   "cell_type": "code",
   "execution_count": 24,
   "metadata": {},
   "outputs": [
    {
     "data": {
      "text/html": [
       "<style  type=\"text/css\" >\n",
       "</style><table id=\"T_1774b790_d6dc_11ea_9d4a_c4b301c36a45\" ><thead>    <tr>        <th class=\"blank level0\" ></th>        <th class=\"col_heading level0 col0\" >Purchase Count</th>        <th class=\"col_heading level0 col1\" >Average Purchase Price</th>        <th class=\"col_heading level0 col2\" >total purchase value</th>        <th class=\"col_heading level0 col3\" >Avg Total Purchase per Person</th>    </tr>    <tr>        <th class=\"index_name level0\" >Age Group</th>        <th class=\"blank\" ></th>        <th class=\"blank\" ></th>        <th class=\"blank\" ></th>        <th class=\"blank\" ></th>    </tr></thead><tbody>\n",
       "                <tr>\n",
       "                        <th id=\"T_1774b790_d6dc_11ea_9d4a_c4b301c36a45level0_row0\" class=\"row_heading level0 row0\" ><10</th>\n",
       "                        <td id=\"T_1774b790_d6dc_11ea_9d4a_c4b301c36a45row0_col0\" class=\"data row0 col0\" >32</td>\n",
       "                        <td id=\"T_1774b790_d6dc_11ea_9d4a_c4b301c36a45row0_col1\" class=\"data row0 col1\" >$4.54</td>\n",
       "                        <td id=\"T_1774b790_d6dc_11ea_9d4a_c4b301c36a45row0_col2\" class=\"data row0 col2\" >$108.96</td>\n",
       "                        <td id=\"T_1774b790_d6dc_11ea_9d4a_c4b301c36a45row0_col3\" class=\"data row0 col3\" >$4.54</td>\n",
       "            </tr>\n",
       "            <tr>\n",
       "                        <th id=\"T_1774b790_d6dc_11ea_9d4a_c4b301c36a45level0_row1\" class=\"row_heading level0 row1\" >10-14</th>\n",
       "                        <td id=\"T_1774b790_d6dc_11ea_9d4a_c4b301c36a45row1_col0\" class=\"data row1 col0\" >19</td>\n",
       "                        <td id=\"T_1774b790_d6dc_11ea_9d4a_c4b301c36a45row1_col1\" class=\"data row1 col1\" >$3.40</td>\n",
       "                        <td id=\"T_1774b790_d6dc_11ea_9d4a_c4b301c36a45row1_col2\" class=\"data row1 col2\" >$50.95</td>\n",
       "                        <td id=\"T_1774b790_d6dc_11ea_9d4a_c4b301c36a45row1_col3\" class=\"data row1 col3\" >$3.40</td>\n",
       "            </tr>\n",
       "            <tr>\n",
       "                        <th id=\"T_1774b790_d6dc_11ea_9d4a_c4b301c36a45level0_row2\" class=\"row_heading level0 row2\" >15-19</th>\n",
       "                        <td id=\"T_1774b790_d6dc_11ea_9d4a_c4b301c36a45row2_col0\" class=\"data row2 col0\" >136</td>\n",
       "                        <td id=\"T_1774b790_d6dc_11ea_9d4a_c4b301c36a45row2_col1\" class=\"data row2 col1\" >$3.86</td>\n",
       "                        <td id=\"T_1774b790_d6dc_11ea_9d4a_c4b301c36a45row2_col2\" class=\"data row2 col2\" >$412.89</td>\n",
       "                        <td id=\"T_1774b790_d6dc_11ea_9d4a_c4b301c36a45row2_col3\" class=\"data row2 col3\" >$3.86</td>\n",
       "            </tr>\n",
       "            <tr>\n",
       "                        <th id=\"T_1774b790_d6dc_11ea_9d4a_c4b301c36a45level0_row3\" class=\"row_heading level0 row3\" >20-24</th>\n",
       "                        <td id=\"T_1774b790_d6dc_11ea_9d4a_c4b301c36a45row3_col0\" class=\"data row3 col0\" >365</td>\n",
       "                        <td id=\"T_1774b790_d6dc_11ea_9d4a_c4b301c36a45row3_col1\" class=\"data row3 col1\" >$4.32</td>\n",
       "                        <td id=\"T_1774b790_d6dc_11ea_9d4a_c4b301c36a45row3_col2\" class=\"data row3 col2\" >$1114.06</td>\n",
       "                        <td id=\"T_1774b790_d6dc_11ea_9d4a_c4b301c36a45row3_col3\" class=\"data row3 col3\" >$4.32</td>\n",
       "            </tr>\n",
       "            <tr>\n",
       "                        <th id=\"T_1774b790_d6dc_11ea_9d4a_c4b301c36a45level0_row4\" class=\"row_heading level0 row4\" >25-29</th>\n",
       "                        <td id=\"T_1774b790_d6dc_11ea_9d4a_c4b301c36a45row4_col0\" class=\"data row4 col0\" >101</td>\n",
       "                        <td id=\"T_1774b790_d6dc_11ea_9d4a_c4b301c36a45row4_col1\" class=\"data row4 col1\" >$3.81</td>\n",
       "                        <td id=\"T_1774b790_d6dc_11ea_9d4a_c4b301c36a45row4_col2\" class=\"data row4 col2\" >$293.00</td>\n",
       "                        <td id=\"T_1774b790_d6dc_11ea_9d4a_c4b301c36a45row4_col3\" class=\"data row4 col3\" >$3.81</td>\n",
       "            </tr>\n",
       "            <tr>\n",
       "                        <th id=\"T_1774b790_d6dc_11ea_9d4a_c4b301c36a45level0_row5\" class=\"row_heading level0 row5\" >30-34</th>\n",
       "                        <td id=\"T_1774b790_d6dc_11ea_9d4a_c4b301c36a45row5_col0\" class=\"data row5 col0\" >73</td>\n",
       "                        <td id=\"T_1774b790_d6dc_11ea_9d4a_c4b301c36a45row5_col1\" class=\"data row5 col1\" >$4.12</td>\n",
       "                        <td id=\"T_1774b790_d6dc_11ea_9d4a_c4b301c36a45row5_col2\" class=\"data row5 col2\" >$214.00</td>\n",
       "                        <td id=\"T_1774b790_d6dc_11ea_9d4a_c4b301c36a45row5_col3\" class=\"data row5 col3\" >$4.12</td>\n",
       "            </tr>\n",
       "            <tr>\n",
       "                        <th id=\"T_1774b790_d6dc_11ea_9d4a_c4b301c36a45level0_row6\" class=\"row_heading level0 row6\" >35-39</th>\n",
       "                        <td id=\"T_1774b790_d6dc_11ea_9d4a_c4b301c36a45row6_col0\" class=\"data row6 col0\" >41</td>\n",
       "                        <td id=\"T_1774b790_d6dc_11ea_9d4a_c4b301c36a45row6_col1\" class=\"data row6 col1\" >$4.76</td>\n",
       "                        <td id=\"T_1774b790_d6dc_11ea_9d4a_c4b301c36a45row6_col2\" class=\"data row6 col2\" >$147.67</td>\n",
       "                        <td id=\"T_1774b790_d6dc_11ea_9d4a_c4b301c36a45row6_col3\" class=\"data row6 col3\" >$4.76</td>\n",
       "            </tr>\n",
       "            <tr>\n",
       "                        <th id=\"T_1774b790_d6dc_11ea_9d4a_c4b301c36a45level0_row7\" class=\"row_heading level0 row7\" >40+</th>\n",
       "                        <td id=\"T_1774b790_d6dc_11ea_9d4a_c4b301c36a45row7_col0\" class=\"data row7 col0\" >6</td>\n",
       "                        <td id=\"T_1774b790_d6dc_11ea_9d4a_c4b301c36a45row7_col1\" class=\"data row7 col1\" >$3.34</td>\n",
       "                        <td id=\"T_1774b790_d6dc_11ea_9d4a_c4b301c36a45row7_col2\" class=\"data row7 col2\" >$16.71</td>\n",
       "                        <td id=\"T_1774b790_d6dc_11ea_9d4a_c4b301c36a45row7_col3\" class=\"data row7 col3\" >$3.34</td>\n",
       "            </tr>\n",
       "    </tbody></table>"
      ],
      "text/plain": [
       "<pandas.io.formats.style.Styler at 0x11fee6550>"
      ]
     },
     "execution_count": 24,
     "metadata": {},
     "output_type": "execute_result"
    }
   ],
   "source": [
    "#bin, calculate, make dataframe, format\n",
    "#make bins, copy paste from previous box and change \"players2\" into \"purchase_data\"!\n",
    "\n",
    "#bin\n",
    "bins = [0,10,14,19,24,29,34,39,40]\n",
    "group_labels= [\"<10\", \"10-14\", \"15-19\", \"20-24\", \"25-29\", \"30-34\", \"35-39\", \"40+\"]\n",
    "pd.cut(purchase_data[\"Age\"], bins, labels= group_labels)\n",
    "purchase_data[\"Age Group\"] = pd.cut(purchase_data[\"Age\"], bins, labels=group_labels)\n",
    "\n",
    "#calculate\n",
    "#Purchase Count\n",
    "#groupby since there are 2 columns \n",
    "#\"price\" is inserted to match \"Age Group\"\n",
    "agepurch = purchase_data.groupby([\"Age Group\"]).count()[\"Price\"]  #\"price\" can be renamed to any column\n",
    "\n",
    "#total purchase value\n",
    "pricepurch= purchase_data.groupby([\"Age Group\"]).sum()[\"Price\"] \n",
    "\n",
    "#Average Purchase Price\n",
    "avgpurch = pricepurch/Total \n",
    "\n",
    "#Avg Total Purchase per Person      \n",
    "perPerson = pricepurch/Total\n",
    "\n",
    "#make dataframe!\n",
    "age_purchase= pd.DataFrame({ \"Purchase Count\": agepurch,\n",
    "                             \"Average Purchase Price\" : avgpurch,\n",
    "                            \"total purchase value\" : pricepurch,\n",
    "                            \"Avg Total Purchase per Person\" : perPerson\n",
    "                        })   #remove brackets to show clean data table\n",
    "\n",
    "\n",
    "#format\n",
    "#in single dict\n",
    "age_purchase.style.format({\"Average Purchase Price\" : \"${:.2f}\" , \"total purchase value\" : \"${:.2f}\", \"Avg Total Purchase per Person\": \"${:.2f}\"}) \n",
    "\n",
    "\n"
   ]
  },
  {
   "cell_type": "markdown",
   "metadata": {},
   "source": [
    "## Top Spenders"
   ]
  },
  {
   "cell_type": "markdown",
   "metadata": {},
   "source": [
    "* Run basic calculations to obtain the results in the table below\n",
    "\n",
    "\n",
    "* Create a summary data frame to hold the results\n",
    "\n",
    "\n",
    "* Sort the total purchase value column in descending order\n",
    "\n",
    "\n",
    "* Optional: give the displayed data cleaner formatting\n",
    "\n",
    "\n",
    "* Display a preview of the summary data frame\n",
    "\n"
   ]
  },
  {
   "cell_type": "code",
   "execution_count": 25,
   "metadata": {},
   "outputs": [
    {
     "data": {
      "text/html": [
       "<style  type=\"text/css\" >\n",
       "</style><table id=\"T_18ab8698_d6dc_11ea_9d4a_c4b301c36a45\" ><thead>    <tr>        <th class=\"blank level0\" ></th>        <th class=\"col_heading level0 col0\" >Purchase Count</th>        <th class=\"col_heading level0 col1\" >Average Purchase Price</th>        <th class=\"col_heading level0 col2\" >Total Purchase Value</th>    </tr>    <tr>        <th class=\"index_name level0\" >SN</th>        <th class=\"blank\" ></th>        <th class=\"blank\" ></th>        <th class=\"blank\" ></th>    </tr></thead><tbody>\n",
       "                <tr>\n",
       "                        <th id=\"T_18ab8698_d6dc_11ea_9d4a_c4b301c36a45level0_row0\" class=\"row_heading level0 row0\" >Lisosia93</th>\n",
       "                        <td id=\"T_18ab8698_d6dc_11ea_9d4a_c4b301c36a45row0_col0\" class=\"data row0 col0\" >5</td>\n",
       "                        <td id=\"T_18ab8698_d6dc_11ea_9d4a_c4b301c36a45row0_col1\" class=\"data row0 col1\" >$3.79</td>\n",
       "                        <td id=\"T_18ab8698_d6dc_11ea_9d4a_c4b301c36a45row0_col2\" class=\"data row0 col2\" >$18.96</td>\n",
       "            </tr>\n",
       "            <tr>\n",
       "                        <th id=\"T_18ab8698_d6dc_11ea_9d4a_c4b301c36a45level0_row1\" class=\"row_heading level0 row1\" >Iral74</th>\n",
       "                        <td id=\"T_18ab8698_d6dc_11ea_9d4a_c4b301c36a45row1_col0\" class=\"data row1 col0\" >4</td>\n",
       "                        <td id=\"T_18ab8698_d6dc_11ea_9d4a_c4b301c36a45row1_col1\" class=\"data row1 col1\" >$3.40</td>\n",
       "                        <td id=\"T_18ab8698_d6dc_11ea_9d4a_c4b301c36a45row1_col2\" class=\"data row1 col2\" >$13.62</td>\n",
       "            </tr>\n",
       "            <tr>\n",
       "                        <th id=\"T_18ab8698_d6dc_11ea_9d4a_c4b301c36a45level0_row2\" class=\"row_heading level0 row2\" >Idastidru52</th>\n",
       "                        <td id=\"T_18ab8698_d6dc_11ea_9d4a_c4b301c36a45row2_col0\" class=\"data row2 col0\" >4</td>\n",
       "                        <td id=\"T_18ab8698_d6dc_11ea_9d4a_c4b301c36a45row2_col1\" class=\"data row2 col1\" >$3.86</td>\n",
       "                        <td id=\"T_18ab8698_d6dc_11ea_9d4a_c4b301c36a45row2_col2\" class=\"data row2 col2\" >$15.45</td>\n",
       "            </tr>\n",
       "            <tr>\n",
       "                        <th id=\"T_18ab8698_d6dc_11ea_9d4a_c4b301c36a45level0_row3\" class=\"row_heading level0 row3\" >Asur53</th>\n",
       "                        <td id=\"T_18ab8698_d6dc_11ea_9d4a_c4b301c36a45row3_col0\" class=\"data row3 col0\" >3</td>\n",
       "                        <td id=\"T_18ab8698_d6dc_11ea_9d4a_c4b301c36a45row3_col1\" class=\"data row3 col1\" >$2.48</td>\n",
       "                        <td id=\"T_18ab8698_d6dc_11ea_9d4a_c4b301c36a45row3_col2\" class=\"data row3 col2\" >$7.44</td>\n",
       "            </tr>\n",
       "            <tr>\n",
       "                        <th id=\"T_18ab8698_d6dc_11ea_9d4a_c4b301c36a45level0_row4\" class=\"row_heading level0 row4\" >Inguron55</th>\n",
       "                        <td id=\"T_18ab8698_d6dc_11ea_9d4a_c4b301c36a45row4_col0\" class=\"data row4 col0\" >3</td>\n",
       "                        <td id=\"T_18ab8698_d6dc_11ea_9d4a_c4b301c36a45row4_col1\" class=\"data row4 col1\" >$3.70</td>\n",
       "                        <td id=\"T_18ab8698_d6dc_11ea_9d4a_c4b301c36a45row4_col2\" class=\"data row4 col2\" >$11.11</td>\n",
       "            </tr>\n",
       "    </tbody></table>"
      ],
      "text/plain": [
       "<pandas.io.formats.style.Styler at 0x11fb9ef90>"
      ]
     },
     "execution_count": 25,
     "metadata": {},
     "output_type": "execute_result"
    }
   ],
   "source": [
    "#sort values\n",
    "#div\n",
    "#groupby\n",
    "# use usernames and find their purchases\n",
    " \n",
    "\n",
    "#count\n",
    "topcount= purchase_data.groupby([\"SN\"]).count()[\"Price\"]\n",
    "\n",
    "#sum\n",
    "toppurch= purchase_data.groupby([\"SN\"]).sum()[\"Price\"]\n",
    "\n",
    "#avg\n",
    "spendavg= toppurch/topcount\n",
    "\n",
    "#sort\n",
    "#make dataframe\n",
    "topspend= pd.DataFrame({\"Purchase Count\" : topcount,\n",
    "                       \"Average Purchase Price\" : spendavg,\n",
    "                        \"Total Purchase Value\" : toppurch\n",
    "                       })\n",
    "\n",
    "#sort\n",
    "\n",
    "spender= topspend.sort_values(\"Purchase Count\", ascending=False).head()\n",
    "spender.style.format({\"Average Purchase Price\": \"${:.2f}\",\"Total Purchase Value\": \"${:.2f}\"})\n",
    "\n"
   ]
  },
  {
   "cell_type": "markdown",
   "metadata": {},
   "source": [
    "## Most Popular Items"
   ]
  },
  {
   "cell_type": "markdown",
   "metadata": {},
   "source": [
    "* Retrieve the Item ID, Item Name, and Item Price columns\n",
    "\n",
    "\n",
    "* Group by Item ID and Item Name. Perform calculations to obtain purchase count, item price, and total purchase value\n",
    "\n",
    "\n",
    "* Create a summary data frame to hold the results\n",
    "\n",
    "\n",
    "* Sort the purchase count column in descending order\n",
    "\n",
    "\n",
    "* Optional: give the displayed data cleaner formatting\n",
    "\n",
    "\n",
    "* Display a preview of the summary data frame\n",
    "\n"
   ]
  },
  {
   "cell_type": "code",
   "execution_count": 12,
   "metadata": {
    "scrolled": false
   },
   "outputs": [
    {
     "data": {
      "text/html": [
       "<style  type=\"text/css\" >\n",
       "</style><table id=\"T_c9326542_d6da_11ea_9d4a_c4b301c36a45\" ><thead>    <tr>        <th class=\"blank\" ></th>        <th class=\"blank level0\" ></th>        <th class=\"col_heading level0 col0\" >Item Count</th>        <th class=\"col_heading level0 col1\" >Item Total</th>        <th class=\"col_heading level0 col2\" >Item Price</th>    </tr>    <tr>        <th class=\"index_name level0\" >Item ID</th>        <th class=\"index_name level1\" >Item Name</th>        <th class=\"blank\" ></th>        <th class=\"blank\" ></th>        <th class=\"blank\" ></th>    </tr></thead><tbody>\n",
       "                <tr>\n",
       "                        <th id=\"T_c9326542_d6da_11ea_9d4a_c4b301c36a45level0_row0\" class=\"row_heading level0 row0\" >92</th>\n",
       "                        <th id=\"T_c9326542_d6da_11ea_9d4a_c4b301c36a45level1_row0\" class=\"row_heading level1 row0\" >Final Critic</th>\n",
       "                        <td id=\"T_c9326542_d6da_11ea_9d4a_c4b301c36a45row0_col0\" class=\"data row0 col0\" >13</td>\n",
       "                        <td id=\"T_c9326542_d6da_11ea_9d4a_c4b301c36a45row0_col1\" class=\"data row0 col1\" >$59.99</td>\n",
       "                        <td id=\"T_c9326542_d6da_11ea_9d4a_c4b301c36a45row0_col2\" class=\"data row0 col2\" >$4.61</td>\n",
       "            </tr>\n",
       "            <tr>\n",
       "                        <th id=\"T_c9326542_d6da_11ea_9d4a_c4b301c36a45level0_row1\" class=\"row_heading level0 row1\" >178</th>\n",
       "                        <th id=\"T_c9326542_d6da_11ea_9d4a_c4b301c36a45level1_row1\" class=\"row_heading level1 row1\" >Oathbreaker, Last Hope of the Breaking Storm</th>\n",
       "                        <td id=\"T_c9326542_d6da_11ea_9d4a_c4b301c36a45row1_col0\" class=\"data row1 col0\" >12</td>\n",
       "                        <td id=\"T_c9326542_d6da_11ea_9d4a_c4b301c36a45row1_col1\" class=\"data row1 col1\" >$50.76</td>\n",
       "                        <td id=\"T_c9326542_d6da_11ea_9d4a_c4b301c36a45row1_col2\" class=\"data row1 col2\" >$4.23</td>\n",
       "            </tr>\n",
       "            <tr>\n",
       "                        <th id=\"T_c9326542_d6da_11ea_9d4a_c4b301c36a45level0_row2\" class=\"row_heading level0 row2\" >145</th>\n",
       "                        <th id=\"T_c9326542_d6da_11ea_9d4a_c4b301c36a45level1_row2\" class=\"row_heading level1 row2\" >Fiery Glass Crusader</th>\n",
       "                        <td id=\"T_c9326542_d6da_11ea_9d4a_c4b301c36a45row2_col0\" class=\"data row2 col0\" >9</td>\n",
       "                        <td id=\"T_c9326542_d6da_11ea_9d4a_c4b301c36a45row2_col1\" class=\"data row2 col1\" >$41.22</td>\n",
       "                        <td id=\"T_c9326542_d6da_11ea_9d4a_c4b301c36a45row2_col2\" class=\"data row2 col2\" >$4.58</td>\n",
       "            </tr>\n",
       "            <tr>\n",
       "                        <th id=\"T_c9326542_d6da_11ea_9d4a_c4b301c36a45level0_row3\" class=\"row_heading level0 row3\" >132</th>\n",
       "                        <th id=\"T_c9326542_d6da_11ea_9d4a_c4b301c36a45level1_row3\" class=\"row_heading level1 row3\" >Persuasion</th>\n",
       "                        <td id=\"T_c9326542_d6da_11ea_9d4a_c4b301c36a45row3_col0\" class=\"data row3 col0\" >9</td>\n",
       "                        <td id=\"T_c9326542_d6da_11ea_9d4a_c4b301c36a45row3_col1\" class=\"data row3 col1\" >$28.99</td>\n",
       "                        <td id=\"T_c9326542_d6da_11ea_9d4a_c4b301c36a45row3_col2\" class=\"data row3 col2\" >$3.22</td>\n",
       "            </tr>\n",
       "            <tr>\n",
       "                        <th id=\"T_c9326542_d6da_11ea_9d4a_c4b301c36a45level0_row4\" class=\"row_heading level0 row4\" >108</th>\n",
       "                        <th id=\"T_c9326542_d6da_11ea_9d4a_c4b301c36a45level1_row4\" class=\"row_heading level1 row4\" >Extraction, Quickblade Of Trembling Hands</th>\n",
       "                        <td id=\"T_c9326542_d6da_11ea_9d4a_c4b301c36a45row4_col0\" class=\"data row4 col0\" >9</td>\n",
       "                        <td id=\"T_c9326542_d6da_11ea_9d4a_c4b301c36a45row4_col1\" class=\"data row4 col1\" >$31.77</td>\n",
       "                        <td id=\"T_c9326542_d6da_11ea_9d4a_c4b301c36a45row4_col2\" class=\"data row4 col2\" >$3.53</td>\n",
       "            </tr>\n",
       "    </tbody></table>"
      ],
      "text/plain": [
       "<pandas.io.formats.style.Styler at 0x11f565890>"
      ]
     },
     "execution_count": 12,
     "metadata": {},
     "output_type": "execute_result"
    }
   ],
   "source": [
    "\n",
    "itemdata= purchase_data.loc[ :, [\"Item ID\", \"Item Name\", \"Price\"]]\n",
    "\n",
    "#calculations\n",
    "\n",
    "#item count\n",
    "itemcount= itemdata.groupby([\"Item ID\", \"Item Name\"]).count()[\"Price\"]\n",
    "\n",
    "# itemcount\n",
    "                                \n",
    "itemtotal = itemdata.groupby([\"Item ID\", \"Item Name\"]).sum()[\"Price\"]\n",
    "\n",
    "itemprice = itemdata.groupby([\"Item ID\", \"Item Name\"]).mean()[\"Price\"]\n",
    "\n",
    "\n",
    "items= pd.DataFrame({\"Item Count\": itemcount,\n",
    "                     \"Item Total\": itemtotal,\n",
    "                      \"Item Price\" : itemprice\n",
    "                     })\n",
    "\n",
    "#format\n",
    "\n",
    "profit= items.sort_values(\"Item Count\", ascending=False).head()\n",
    "profit.style.format({\"Item Total\" : \"${:.2f}\" , \"Item Price\" : \"${:.2f}\"}) \n"
   ]
  },
  {
   "cell_type": "markdown",
   "metadata": {},
   "source": [
    "## Most Profitable Items"
   ]
  },
  {
   "cell_type": "markdown",
   "metadata": {},
   "source": [
    "* Sort the above table by total purchase value in descending order\n",
    "\n",
    "* Optional: give the displayed data cleaner formatting\n",
    "\n",
    "* Display a preview of the data frame\n",
    "\n"
   ]
  },
  {
   "cell_type": "code",
   "execution_count": 11,
   "metadata": {
    "scrolled": false
   },
   "outputs": [
    {
     "data": {
      "text/html": [
       "<style  type=\"text/css\" >\n",
       "</style><table id=\"T_bd045910_d6da_11ea_9d4a_c4b301c36a45\" ><thead>    <tr>        <th class=\"blank\" ></th>        <th class=\"blank level0\" ></th>        <th class=\"col_heading level0 col0\" >Item Count</th>        <th class=\"col_heading level0 col1\" >Item Total</th>        <th class=\"col_heading level0 col2\" >Item Price</th>    </tr>    <tr>        <th class=\"index_name level0\" >Item ID</th>        <th class=\"index_name level1\" >Item Name</th>        <th class=\"blank\" ></th>        <th class=\"blank\" ></th>        <th class=\"blank\" ></th>    </tr></thead><tbody>\n",
       "                <tr>\n",
       "                        <th id=\"T_bd045910_d6da_11ea_9d4a_c4b301c36a45level0_row0\" class=\"row_heading level0 row0\" >92</th>\n",
       "                        <th id=\"T_bd045910_d6da_11ea_9d4a_c4b301c36a45level1_row0\" class=\"row_heading level1 row0\" >Final Critic</th>\n",
       "                        <td id=\"T_bd045910_d6da_11ea_9d4a_c4b301c36a45row0_col0\" class=\"data row0 col0\" >13</td>\n",
       "                        <td id=\"T_bd045910_d6da_11ea_9d4a_c4b301c36a45row0_col1\" class=\"data row0 col1\" >$59.99</td>\n",
       "                        <td id=\"T_bd045910_d6da_11ea_9d4a_c4b301c36a45row0_col2\" class=\"data row0 col2\" >$4.61</td>\n",
       "            </tr>\n",
       "            <tr>\n",
       "                        <th id=\"T_bd045910_d6da_11ea_9d4a_c4b301c36a45level0_row1\" class=\"row_heading level0 row1\" >178</th>\n",
       "                        <th id=\"T_bd045910_d6da_11ea_9d4a_c4b301c36a45level1_row1\" class=\"row_heading level1 row1\" >Oathbreaker, Last Hope of the Breaking Storm</th>\n",
       "                        <td id=\"T_bd045910_d6da_11ea_9d4a_c4b301c36a45row1_col0\" class=\"data row1 col0\" >12</td>\n",
       "                        <td id=\"T_bd045910_d6da_11ea_9d4a_c4b301c36a45row1_col1\" class=\"data row1 col1\" >$50.76</td>\n",
       "                        <td id=\"T_bd045910_d6da_11ea_9d4a_c4b301c36a45row1_col2\" class=\"data row1 col2\" >$4.23</td>\n",
       "            </tr>\n",
       "            <tr>\n",
       "                        <th id=\"T_bd045910_d6da_11ea_9d4a_c4b301c36a45level0_row2\" class=\"row_heading level0 row2\" >145</th>\n",
       "                        <th id=\"T_bd045910_d6da_11ea_9d4a_c4b301c36a45level1_row2\" class=\"row_heading level1 row2\" >Fiery Glass Crusader</th>\n",
       "                        <td id=\"T_bd045910_d6da_11ea_9d4a_c4b301c36a45row2_col0\" class=\"data row2 col0\" >9</td>\n",
       "                        <td id=\"T_bd045910_d6da_11ea_9d4a_c4b301c36a45row2_col1\" class=\"data row2 col1\" >$41.22</td>\n",
       "                        <td id=\"T_bd045910_d6da_11ea_9d4a_c4b301c36a45row2_col2\" class=\"data row2 col2\" >$4.58</td>\n",
       "            </tr>\n",
       "            <tr>\n",
       "                        <th id=\"T_bd045910_d6da_11ea_9d4a_c4b301c36a45level0_row3\" class=\"row_heading level0 row3\" >132</th>\n",
       "                        <th id=\"T_bd045910_d6da_11ea_9d4a_c4b301c36a45level1_row3\" class=\"row_heading level1 row3\" >Persuasion</th>\n",
       "                        <td id=\"T_bd045910_d6da_11ea_9d4a_c4b301c36a45row3_col0\" class=\"data row3 col0\" >9</td>\n",
       "                        <td id=\"T_bd045910_d6da_11ea_9d4a_c4b301c36a45row3_col1\" class=\"data row3 col1\" >$28.99</td>\n",
       "                        <td id=\"T_bd045910_d6da_11ea_9d4a_c4b301c36a45row3_col2\" class=\"data row3 col2\" >$3.22</td>\n",
       "            </tr>\n",
       "            <tr>\n",
       "                        <th id=\"T_bd045910_d6da_11ea_9d4a_c4b301c36a45level0_row4\" class=\"row_heading level0 row4\" >108</th>\n",
       "                        <th id=\"T_bd045910_d6da_11ea_9d4a_c4b301c36a45level1_row4\" class=\"row_heading level1 row4\" >Extraction, Quickblade Of Trembling Hands</th>\n",
       "                        <td id=\"T_bd045910_d6da_11ea_9d4a_c4b301c36a45row4_col0\" class=\"data row4 col0\" >9</td>\n",
       "                        <td id=\"T_bd045910_d6da_11ea_9d4a_c4b301c36a45row4_col1\" class=\"data row4 col1\" >$31.77</td>\n",
       "                        <td id=\"T_bd045910_d6da_11ea_9d4a_c4b301c36a45row4_col2\" class=\"data row4 col2\" >$3.53</td>\n",
       "            </tr>\n",
       "    </tbody></table>"
      ],
      "text/plain": [
       "<pandas.io.formats.style.Styler at 0x11fc598d0>"
      ]
     },
     "execution_count": 11,
     "metadata": {},
     "output_type": "execute_result"
    }
   ],
   "source": [
    "\n",
    "itemdata= purchase_data.loc[ :, [\"Item ID\", \"Item Name\", \"Price\"]]\n",
    "\n",
    "#calculations\n",
    "\n",
    "#item count\n",
    "itemcount= itemdata.groupby([\"Item ID\", \"Item Name\"]).count()[\"Price\"]\n",
    "\n",
    "# itemcount\n",
    "                                \n",
    "itemtotal = itemdata.groupby([\"Item ID\", \"Item Name\"]).sum()[\"Price\"]\n",
    "\n",
    "itemprice = itemdata.groupby([\"Item ID\", \"Item Name\"]).mean()[\"Price\"]\n",
    "\n",
    "\n",
    "# #purchase_data.loc[\"Price\"]\n",
    "#itemprice = purchase_data.loc[:,\"Price\"]\n",
    "#itemprice\n",
    "# #item total\n",
    "# itemtotal= purchase_data.groupby([\"Item Name\"]).sum()[\"Price\"]\n",
    "# itemprice\n",
    "\n",
    "items= pd.DataFrame({\"Item Count\": itemcount,\n",
    "                     \"Item Total\": itemtotal,\n",
    "                      \"Item Price\" : itemprice\n",
    "                     })\n",
    "# items.dropna()\n",
    "\n",
    "#formatdo\n",
    "profit= items.sort_values(\"Item Count\", ascending=False).head()\n",
    "profit.style.format({\"Item Total\" : \"${:.2f}\" , \"Item Price\" : \"${:.2f}\"}) \n",
    "\n"
   ]
  },
  {
   "cell_type": "code",
   "execution_count": null,
   "metadata": {},
   "outputs": [],
   "source": []
  }
 ],
 "metadata": {
  "anaconda-cloud": {},
  "kernel_info": {
   "name": "python3"
  },
  "kernelspec": {
   "display_name": "Python 3",
   "language": "python",
   "name": "python3"
  },
  "language_info": {
   "codemirror_mode": {
    "name": "ipython",
    "version": 3
   },
   "file_extension": ".py",
   "mimetype": "text/x-python",
   "name": "python",
   "nbconvert_exporter": "python",
   "pygments_lexer": "ipython3",
   "version": "3.7.6"
  },
  "latex_envs": {
   "LaTeX_envs_menu_present": true,
   "autoclose": false,
   "autocomplete": true,
   "bibliofile": "biblio.bib",
   "cite_by": "apalike",
   "current_citInitial": 1,
   "eqLabelWithNumbers": true,
   "eqNumInitial": 1,
   "hotkeys": {
    "equation": "Ctrl-E",
    "itemize": "Ctrl-I"
   },
   "labels_anchors": false,
   "latex_user_defs": false,
   "report_style_numbering": false,
   "user_envs_cfg": false
  },
  "nteract": {
   "version": "0.2.0"
  }
 },
 "nbformat": 4,
 "nbformat_minor": 2
}
